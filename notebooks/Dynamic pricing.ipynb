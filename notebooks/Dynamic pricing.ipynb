{
 "cells": [
  {
   "cell_type": "markdown",
   "id": "f184c068-f55a-4d76-a61b-1bbb20f0cb9e",
   "metadata": {},
   "source": [
    "# Implement dynamic pricing strategies for fitness classes based on demand, time, and location\n",
    "\n",
    "---\n",
    "\n",
    "## 📌 Problem Statement\n",
    "\n",
    "Fitness class attendance varies widely across **time slots**, **locations**, and **days of the week**. Flat-rate pricing fails to capture the true value during high-demand periods and leaves revenue on the table during low-attendance hours.\n",
    "\n",
    "The goal is to implement a **dynamic pricing strategy** that adjusts fitness class prices based on:\n",
    "\n",
    "- 📈 **Demand**\n",
    "- ⏰ **Time of day**\n",
    "- 📍 **Location**\n",
    "\n",
    "This strategy will help:\n",
    "- Maximize revenue\n",
    "- Increase class utilization\n",
    "- Improve customer satisfaction through fair pricing\n",
    "\n",
    "---\n",
    "\n",
    "## 🎯 Objectives\n",
    "\n",
    "1. Collect and preprocess historical data on class bookings.\n",
    "2. Analyze demand trends by time and location.\n",
    "3. Forecast demand using appropriate models (e.g., ARIMA, Prophet, or ML models).\n",
    "4. Segment peak and off-peak time slots and locations.\n",
    "5. Design a dynamic pricing algorithm that adjusts prices in real-time.\n",
    "6. Simulate pricing outcomes and measure revenue impact.`````m\n",
    "7. Visualize insights using plots and dashboards.\n",
    "\n",
    "---\n",
    "\n",
    "## 📂 Data Set features\n",
    "\n",
    "ActivitySiteID\n",
    "\n",
    "ActivityDescription\n",
    "\n",
    "BookingEndDateTime\n",
    "\n",
    "BookingStartTime\n",
    "\n",
    "MaxBookees\n",
    "\n",
    "Number Booked\n",
    "\n",
    "Price (INR)\n"
   ]
  },
  {
   "cell_type": "markdown",
   "id": "b02e61c4-679e-41ff-bb19-6084132e244c",
   "metadata": {},
   "source": [
    "## Import Libraries"
   ]
  },
  {
   "cell_type": "code",
   "execution_count": 605,
   "id": "2dfb5c39-0782-47d5-a87a-8031b6258eb3",
   "metadata": {},
   "outputs": [],
   "source": [
    "# Data handling\n",
    "import pandas as pd\n",
    "import numpy as np\n",
    "\n",
    "# Date and time\n",
    "from datetime import datetime\n",
    "\n",
    "# Data visualization\n",
    "import matplotlib.pyplot as plt\n",
    "import seaborn as sns\n",
    "sns.set(style=\"whitegrid\")\n",
    "\n",
    "# Machine learning (for modeling demand or dynamic pricing)\n",
    "from sklearn.linear_model import LinearRegression\n",
    "from sklearn.ensemble import RandomForestRegressor\n",
    "from sklearn.model_selection import train_test_split\n",
    "from sklearn.metrics import mean_absolute_error, mean_squared_error\n",
    "\n",
    "\n",
    "# Warnings\n",
    "import warnings\n",
    "warnings.filterwarnings('ignore')\n"
   ]
  },
  {
   "cell_type": "code",
   "execution_count": 606,
   "id": "3661ebe6-9de6-43d9-bbfe-d245bb4f7c2a",
   "metadata": {},
   "outputs": [],
   "source": [
    "## Load Dataset"
   ]
  },
  {
   "cell_type": "code",
   "execution_count": 607,
   "id": "93696925-3f71-470f-88d6-fa53bce0df5a",
   "metadata": {},
   "outputs": [],
   "source": [
    "Df_April_may=pd.read_csv(\"Classes April-May 2018.csv\")\n",
    "Df_June=pd.read_csv(\"Classes June 2018.csv\")"
   ]
  },
  {
   "cell_type": "code",
   "execution_count": 608,
   "id": "e1c77b8d-58f2-4b65-8ef3-f7d640dc7777",
   "metadata": {},
   "outputs": [
    {
     "data": {
      "text/html": [
       "<div>\n",
       "<style scoped>\n",
       "    .dataframe tbody tr th:only-of-type {\n",
       "        vertical-align: middle;\n",
       "    }\n",
       "\n",
       "    .dataframe tbody tr th {\n",
       "        vertical-align: top;\n",
       "    }\n",
       "\n",
       "    .dataframe thead th {\n",
       "        text-align: right;\n",
       "    }\n",
       "</style>\n",
       "<table border=\"1\" class=\"dataframe\">\n",
       "  <thead>\n",
       "    <tr style=\"text-align: right;\">\n",
       "      <th></th>\n",
       "      <th>ActivitySiteID</th>\n",
       "      <th>ActivityDescription</th>\n",
       "      <th>BookingEndDateTime (Month / Day / Year)</th>\n",
       "      <th>BookingStartTime</th>\n",
       "      <th>MaxBookees</th>\n",
       "      <th>Number Booked</th>\n",
       "      <th>Price (INR)</th>\n",
       "    </tr>\n",
       "  </thead>\n",
       "  <tbody>\n",
       "    <tr>\n",
       "      <th>0</th>\n",
       "      <td>HXP</td>\n",
       "      <td>20-20-20  2.45pm-3.45pm</td>\n",
       "      <td>08-Apr-18</td>\n",
       "      <td>14:45:00</td>\n",
       "      <td>25</td>\n",
       "      <td>12</td>\n",
       "      <td>499.0</td>\n",
       "    </tr>\n",
       "    <tr>\n",
       "      <th>1</th>\n",
       "      <td>HXP</td>\n",
       "      <td>20-20-20  2.45pm-3.45pm</td>\n",
       "      <td>15-Apr-18</td>\n",
       "      <td>14:45:00</td>\n",
       "      <td>25</td>\n",
       "      <td>15</td>\n",
       "      <td>499.0</td>\n",
       "    </tr>\n",
       "    <tr>\n",
       "      <th>2</th>\n",
       "      <td>HXP</td>\n",
       "      <td>20-20-20  2.45pm-3.45pm</td>\n",
       "      <td>22-Apr-18</td>\n",
       "      <td>14:45:00</td>\n",
       "      <td>25</td>\n",
       "      <td>14</td>\n",
       "      <td>499.0</td>\n",
       "    </tr>\n",
       "    <tr>\n",
       "      <th>3</th>\n",
       "      <td>HXP</td>\n",
       "      <td>20-20-20  2.45pm-3.45pm</td>\n",
       "      <td>29-Apr-18</td>\n",
       "      <td>14:45:00</td>\n",
       "      <td>25</td>\n",
       "      <td>9</td>\n",
       "      <td>499.0</td>\n",
       "    </tr>\n",
       "    <tr>\n",
       "      <th>4</th>\n",
       "      <td>HXP</td>\n",
       "      <td>20-20-20  2.45pm-3.45pm</td>\n",
       "      <td>06-May-18</td>\n",
       "      <td>14:45:00</td>\n",
       "      <td>25</td>\n",
       "      <td>7</td>\n",
       "      <td>499.0</td>\n",
       "    </tr>\n",
       "  </tbody>\n",
       "</table>\n",
       "</div>"
      ],
      "text/plain": [
       "  ActivitySiteID      ActivityDescription  \\\n",
       "0            HXP  20-20-20  2.45pm-3.45pm   \n",
       "1            HXP  20-20-20  2.45pm-3.45pm   \n",
       "2            HXP  20-20-20  2.45pm-3.45pm   \n",
       "3            HXP  20-20-20  2.45pm-3.45pm   \n",
       "4            HXP  20-20-20  2.45pm-3.45pm   \n",
       "\n",
       "  BookingEndDateTime (Month / Day / Year) BookingStartTime  MaxBookees  \\\n",
       "0                               08-Apr-18         14:45:00          25   \n",
       "1                               15-Apr-18         14:45:00          25   \n",
       "2                               22-Apr-18         14:45:00          25   \n",
       "3                               29-Apr-18         14:45:00          25   \n",
       "4                               06-May-18         14:45:00          25   \n",
       "\n",
       "   Number Booked  Price (INR)  \n",
       "0             12        499.0  \n",
       "1             15        499.0  \n",
       "2             14        499.0  \n",
       "3              9        499.0  \n",
       "4              7        499.0  "
      ]
     },
     "execution_count": 608,
     "metadata": {},
     "output_type": "execute_result"
    }
   ],
   "source": [
    "Df_April_may.head()"
   ]
  },
  {
   "cell_type": "code",
   "execution_count": 609,
   "id": "d9d60b5a-3b4c-4f63-8f50-6980405d9ad1",
   "metadata": {},
   "outputs": [
    {
     "data": {
      "text/html": [
       "<div>\n",
       "<style scoped>\n",
       "    .dataframe tbody tr th:only-of-type {\n",
       "        vertical-align: middle;\n",
       "    }\n",
       "\n",
       "    .dataframe tbody tr th {\n",
       "        vertical-align: top;\n",
       "    }\n",
       "\n",
       "    .dataframe thead th {\n",
       "        text-align: right;\n",
       "    }\n",
       "</style>\n",
       "<table border=\"1\" class=\"dataframe\">\n",
       "  <thead>\n",
       "    <tr style=\"text-align: right;\">\n",
       "      <th></th>\n",
       "      <th>ActivitySiteID</th>\n",
       "      <th>ActivityDescription</th>\n",
       "      <th>BookingEndDateTime (Month / Day / Year)</th>\n",
       "      <th>BookingStartTime</th>\n",
       "      <th>MaxBookees</th>\n",
       "      <th>Number Booked</th>\n",
       "      <th>Price (INR)</th>\n",
       "    </tr>\n",
       "  </thead>\n",
       "  <tbody>\n",
       "    <tr>\n",
       "      <th>0</th>\n",
       "      <td>BRP</td>\n",
       "      <td>20:20:20  9.30-10.30am</td>\n",
       "      <td>01-Jun-18</td>\n",
       "      <td>9:30:00</td>\n",
       "      <td>35</td>\n",
       "      <td>28</td>\n",
       "      <td>499</td>\n",
       "    </tr>\n",
       "    <tr>\n",
       "      <th>1</th>\n",
       "      <td>BRP</td>\n",
       "      <td>20:20:20  9.30-10.30am</td>\n",
       "      <td>08-Jun-18</td>\n",
       "      <td>9:30:00</td>\n",
       "      <td>35</td>\n",
       "      <td>35</td>\n",
       "      <td>499</td>\n",
       "    </tr>\n",
       "    <tr>\n",
       "      <th>2</th>\n",
       "      <td>BRP</td>\n",
       "      <td>20:20:20  9.30-10.30am</td>\n",
       "      <td>15-Jun-18</td>\n",
       "      <td>9:30:00</td>\n",
       "      <td>35</td>\n",
       "      <td>31</td>\n",
       "      <td>499</td>\n",
       "    </tr>\n",
       "    <tr>\n",
       "      <th>3</th>\n",
       "      <td>BRP</td>\n",
       "      <td>20:20:20  9.30-10.30am</td>\n",
       "      <td>22-Jun-18</td>\n",
       "      <td>9:30:00</td>\n",
       "      <td>35</td>\n",
       "      <td>32</td>\n",
       "      <td>499</td>\n",
       "    </tr>\n",
       "    <tr>\n",
       "      <th>4</th>\n",
       "      <td>BRP</td>\n",
       "      <td>20:20:20  9.30-10.30am</td>\n",
       "      <td>29-Jun-18</td>\n",
       "      <td>9:30:00</td>\n",
       "      <td>35</td>\n",
       "      <td>19</td>\n",
       "      <td>499</td>\n",
       "    </tr>\n",
       "  </tbody>\n",
       "</table>\n",
       "</div>"
      ],
      "text/plain": [
       "  ActivitySiteID     ActivityDescription  \\\n",
       "0            BRP  20:20:20  9.30-10.30am   \n",
       "1            BRP  20:20:20  9.30-10.30am   \n",
       "2            BRP  20:20:20  9.30-10.30am   \n",
       "3            BRP  20:20:20  9.30-10.30am   \n",
       "4            BRP  20:20:20  9.30-10.30am   \n",
       "\n",
       "  BookingEndDateTime (Month / Day / Year) BookingStartTime  MaxBookees  \\\n",
       "0                               01-Jun-18          9:30:00          35   \n",
       "1                               08-Jun-18          9:30:00          35   \n",
       "2                               15-Jun-18          9:30:00          35   \n",
       "3                               22-Jun-18          9:30:00          35   \n",
       "4                               29-Jun-18          9:30:00          35   \n",
       "\n",
       "   Number Booked  Price (INR)  \n",
       "0             28          499  \n",
       "1             35          499  \n",
       "2             31          499  \n",
       "3             32          499  \n",
       "4             19          499  "
      ]
     },
     "execution_count": 609,
     "metadata": {},
     "output_type": "execute_result"
    }
   ],
   "source": [
    "Df_June.head()"
   ]
  },
  {
   "cell_type": "code",
   "execution_count": 610,
   "id": "89310923-c572-4671-87bf-267e227ff5d6",
   "metadata": {},
   "outputs": [
    {
     "data": {
      "text/plain": [
       "(2177, 7)"
      ]
     },
     "execution_count": 610,
     "metadata": {},
     "output_type": "execute_result"
    }
   ],
   "source": [
    "Df_April_may.shape"
   ]
  },
  {
   "cell_type": "code",
   "execution_count": 611,
   "id": "079aebd3-012c-45c6-883d-2314b74009b6",
   "metadata": {},
   "outputs": [
    {
     "data": {
      "text/plain": [
       "(1112, 7)"
      ]
     },
     "execution_count": 611,
     "metadata": {},
     "output_type": "execute_result"
    }
   ],
   "source": [
    "Df_June.shape"
   ]
  },
  {
   "cell_type": "code",
   "execution_count": 612,
   "id": "7406a7d3-bb72-4172-839f-a96318efc7bd",
   "metadata": {},
   "outputs": [
    {
     "name": "stdout",
     "output_type": "stream",
     "text": [
      "<class 'pandas.core.frame.DataFrame'>\n",
      "RangeIndex: 2177 entries, 0 to 2176\n",
      "Data columns (total 7 columns):\n",
      " #   Column                                   Non-Null Count  Dtype  \n",
      "---  ------                                   --------------  -----  \n",
      " 0   ActivitySiteID                           2177 non-null   object \n",
      " 1   ActivityDescription                      2177 non-null   object \n",
      " 2   BookingEndDateTime (Month / Day / Year)  2177 non-null   object \n",
      " 3   BookingStartTime                         2177 non-null   object \n",
      " 4   MaxBookees                               2177 non-null   int64  \n",
      " 5   Number Booked                            2177 non-null   int64  \n",
      " 6   Price (INR)                              2159 non-null   float64\n",
      "dtypes: float64(1), int64(2), object(4)\n",
      "memory usage: 119.2+ KB\n"
     ]
    }
   ],
   "source": [
    "Df_April_may.info()"
   ]
  },
  {
   "cell_type": "code",
   "execution_count": 613,
   "id": "f5ecbf76-8c11-4b2c-8a41-e9acff9a39d5",
   "metadata": {},
   "outputs": [
    {
     "data": {
      "text/plain": [
       "ActivitySiteID                             0.000000\n",
       "ActivityDescription                        0.000000\n",
       "BookingEndDateTime (Month / Day / Year)    0.000000\n",
       "BookingStartTime                           0.000000\n",
       "MaxBookees                                 0.000000\n",
       "Number Booked                              0.000000\n",
       "Price (INR)                                0.826826\n",
       "dtype: float64"
      ]
     },
     "execution_count": 613,
     "metadata": {},
     "output_type": "execute_result"
    }
   ],
   "source": [
    "#check fo missing values\n",
    "Df_April_may.isna().sum()/len(Df_April_may)*100"
   ]
  },
  {
   "cell_type": "markdown",
   "id": "55358113-a97f-42fd-9ac6-57bbfc296583",
   "metadata": {},
   "source": [
    "Interpretation & Recommendation\n",
    "✅ All columns except Price (INR) are complete (0% missing) — good data quality!\n",
    "\n",
    "Price (INR) has ~0.83% missing values, which is very low. so we can drop\n",
    "\n",
    "Drop: When missing data is <1%, as in your case (~0.83%), dropping rows has minimal impact."
   ]
  },
  {
   "cell_type": "code",
   "execution_count": 615,
   "id": "5af9b76e-d501-4fc1-bb4d-d9bc2c5a87b3",
   "metadata": {},
   "outputs": [],
   "source": [
    "# Drop rows where 'Price (INR)' is missing\n",
    "Df_April_may = Df_April_may.dropna(subset=['Price (INR)'])"
   ]
  },
  {
   "cell_type": "code",
   "execution_count": 616,
   "id": "ced164ca-1719-47a2-8e38-3620ab1e6028",
   "metadata": {},
   "outputs": [
    {
     "data": {
      "text/plain": [
       "ActivitySiteID                             0.0\n",
       "ActivityDescription                        0.0\n",
       "BookingEndDateTime (Month / Day / Year)    0.0\n",
       "BookingStartTime                           0.0\n",
       "MaxBookees                                 0.0\n",
       "Number Booked                              0.0\n",
       "Price (INR)                                0.0\n",
       "dtype: float64"
      ]
     },
     "execution_count": 616,
     "metadata": {},
     "output_type": "execute_result"
    }
   ],
   "source": [
    "Df_April_may.isna().sum()/len(Df_April_may)*100"
   ]
  },
  {
   "cell_type": "code",
   "execution_count": 617,
   "id": "fd5dddfa-aa64-44b4-b377-c8149b42946e",
   "metadata": {},
   "outputs": [
    {
     "name": "stdout",
     "output_type": "stream",
     "text": [
      "<class 'pandas.core.frame.DataFrame'>\n",
      "Index: 2159 entries, 0 to 2176\n",
      "Data columns (total 7 columns):\n",
      " #   Column                                   Non-Null Count  Dtype  \n",
      "---  ------                                   --------------  -----  \n",
      " 0   ActivitySiteID                           2159 non-null   object \n",
      " 1   ActivityDescription                      2159 non-null   object \n",
      " 2   BookingEndDateTime (Month / Day / Year)  2159 non-null   object \n",
      " 3   BookingStartTime                         2159 non-null   object \n",
      " 4   MaxBookees                               2159 non-null   int64  \n",
      " 5   Number Booked                            2159 non-null   int64  \n",
      " 6   Price (INR)                              2159 non-null   float64\n",
      "dtypes: float64(1), int64(2), object(4)\n",
      "memory usage: 134.9+ KB\n"
     ]
    }
   ],
   "source": [
    "Df_April_may.info()"
   ]
  },
  {
   "cell_type": "code",
   "execution_count": 618,
   "id": "afec607e-a053-485c-93a9-b99f99a55092",
   "metadata": {},
   "outputs": [
    {
     "data": {
      "text/plain": [
       "ActivitySiteID                             0\n",
       "ActivityDescription                        0\n",
       "BookingEndDateTime (Month / Day / Year)    0\n",
       "BookingStartTime                           0\n",
       "MaxBookees                                 0\n",
       "Number Booked                              0\n",
       "Price (INR)                                0\n",
       "dtype: int64"
      ]
     },
     "execution_count": 618,
     "metadata": {},
     "output_type": "execute_result"
    }
   ],
   "source": [
    "#checking for missing values in Class June dataset\n",
    "Df_June.isna().sum()"
   ]
  },
  {
   "cell_type": "markdown",
   "id": "e506b621-abd7-4b29-a310-d0fc6c466030",
   "metadata": {},
   "source": [
    "No missing data found\n",
    "Since both data set have same feature we can merge\n"
   ]
  },
  {
   "cell_type": "code",
   "execution_count": 620,
   "id": "7d8633ca-87c5-4fcc-b11b-3e340ba25417",
   "metadata": {},
   "outputs": [
    {
     "name": "stdout",
     "output_type": "stream",
     "text": [
      "Index(['ActivitySiteID', 'ActivityDescription',\n",
      "       'BookingEndDateTime (Month / Day / Year)', 'BookingStartTime',\n",
      "       'MaxBookees', 'Number Booked', 'Price (INR)'],\n",
      "      dtype='object')\n",
      "Index(['ActivitySiteID', 'ActivityDescription',\n",
      "       'BookingEndDateTime (Month / Day / Year)', 'BookingStartTime',\n",
      "       'MaxBookees', 'Number Booked', 'Price (INR)'],\n",
      "      dtype='object')\n"
     ]
    }
   ],
   "source": [
    "print(Df_April_may.columns)\n",
    "print(Df_June.columns)"
   ]
  },
  {
   "cell_type": "markdown",
   "id": "6a16c4b3-f1da-44b7-8b2d-aef7d5cc85e0",
   "metadata": {},
   "source": [
    "## Data Integration"
   ]
  },
  {
   "cell_type": "code",
   "execution_count": 622,
   "id": "9f6e7c4d-e3bf-4077-bc67-dad4afbd0a31",
   "metadata": {},
   "outputs": [],
   "source": [
    "df_merged = pd.concat([Df_April_may, Df_June], ignore_index=True)\n"
   ]
  },
  {
   "cell_type": "code",
   "execution_count": 623,
   "id": "12b0b7c5-8321-499f-9c39-444ca7984fb3",
   "metadata": {},
   "outputs": [
    {
     "data": {
      "text/html": [
       "<div>\n",
       "<style scoped>\n",
       "    .dataframe tbody tr th:only-of-type {\n",
       "        vertical-align: middle;\n",
       "    }\n",
       "\n",
       "    .dataframe tbody tr th {\n",
       "        vertical-align: top;\n",
       "    }\n",
       "\n",
       "    .dataframe thead th {\n",
       "        text-align: right;\n",
       "    }\n",
       "</style>\n",
       "<table border=\"1\" class=\"dataframe\">\n",
       "  <thead>\n",
       "    <tr style=\"text-align: right;\">\n",
       "      <th></th>\n",
       "      <th>ActivitySiteID</th>\n",
       "      <th>ActivityDescription</th>\n",
       "      <th>BookingEndDateTime (Month / Day / Year)</th>\n",
       "      <th>BookingStartTime</th>\n",
       "      <th>MaxBookees</th>\n",
       "      <th>Number Booked</th>\n",
       "      <th>Price (INR)</th>\n",
       "    </tr>\n",
       "  </thead>\n",
       "  <tbody>\n",
       "    <tr>\n",
       "      <th>0</th>\n",
       "      <td>HXP</td>\n",
       "      <td>20-20-20  2.45pm-3.45pm</td>\n",
       "      <td>08-Apr-18</td>\n",
       "      <td>14:45:00</td>\n",
       "      <td>25</td>\n",
       "      <td>12</td>\n",
       "      <td>499.0</td>\n",
       "    </tr>\n",
       "    <tr>\n",
       "      <th>1</th>\n",
       "      <td>HXP</td>\n",
       "      <td>20-20-20  2.45pm-3.45pm</td>\n",
       "      <td>15-Apr-18</td>\n",
       "      <td>14:45:00</td>\n",
       "      <td>25</td>\n",
       "      <td>15</td>\n",
       "      <td>499.0</td>\n",
       "    </tr>\n",
       "    <tr>\n",
       "      <th>2</th>\n",
       "      <td>HXP</td>\n",
       "      <td>20-20-20  2.45pm-3.45pm</td>\n",
       "      <td>22-Apr-18</td>\n",
       "      <td>14:45:00</td>\n",
       "      <td>25</td>\n",
       "      <td>14</td>\n",
       "      <td>499.0</td>\n",
       "    </tr>\n",
       "    <tr>\n",
       "      <th>3</th>\n",
       "      <td>HXP</td>\n",
       "      <td>20-20-20  2.45pm-3.45pm</td>\n",
       "      <td>29-Apr-18</td>\n",
       "      <td>14:45:00</td>\n",
       "      <td>25</td>\n",
       "      <td>9</td>\n",
       "      <td>499.0</td>\n",
       "    </tr>\n",
       "    <tr>\n",
       "      <th>4</th>\n",
       "      <td>HXP</td>\n",
       "      <td>20-20-20  2.45pm-3.45pm</td>\n",
       "      <td>06-May-18</td>\n",
       "      <td>14:45:00</td>\n",
       "      <td>25</td>\n",
       "      <td>7</td>\n",
       "      <td>499.0</td>\n",
       "    </tr>\n",
       "  </tbody>\n",
       "</table>\n",
       "</div>"
      ],
      "text/plain": [
       "  ActivitySiteID      ActivityDescription  \\\n",
       "0            HXP  20-20-20  2.45pm-3.45pm   \n",
       "1            HXP  20-20-20  2.45pm-3.45pm   \n",
       "2            HXP  20-20-20  2.45pm-3.45pm   \n",
       "3            HXP  20-20-20  2.45pm-3.45pm   \n",
       "4            HXP  20-20-20  2.45pm-3.45pm   \n",
       "\n",
       "  BookingEndDateTime (Month / Day / Year) BookingStartTime  MaxBookees  \\\n",
       "0                               08-Apr-18         14:45:00          25   \n",
       "1                               15-Apr-18         14:45:00          25   \n",
       "2                               22-Apr-18         14:45:00          25   \n",
       "3                               29-Apr-18         14:45:00          25   \n",
       "4                               06-May-18         14:45:00          25   \n",
       "\n",
       "   Number Booked  Price (INR)  \n",
       "0             12        499.0  \n",
       "1             15        499.0  \n",
       "2             14        499.0  \n",
       "3              9        499.0  \n",
       "4              7        499.0  "
      ]
     },
     "execution_count": 623,
     "metadata": {},
     "output_type": "execute_result"
    }
   ],
   "source": [
    "df_merged.head()"
   ]
  },
  {
   "cell_type": "code",
   "execution_count": 624,
   "id": "ee489dd1-04d7-4cbc-bf2a-df5f683f9d78",
   "metadata": {},
   "outputs": [
    {
     "data": {
      "text/plain": [
       "ActivitySiteID                             0\n",
       "ActivityDescription                        0\n",
       "BookingEndDateTime (Month / Day / Year)    0\n",
       "BookingStartTime                           0\n",
       "MaxBookees                                 0\n",
       "Number Booked                              0\n",
       "Price (INR)                                0\n",
       "dtype: int64"
      ]
     },
     "execution_count": 624,
     "metadata": {},
     "output_type": "execute_result"
    }
   ],
   "source": [
    "df_merged.isna().sum()"
   ]
  },
  {
   "cell_type": "code",
   "execution_count": 625,
   "id": "2bea0bbb-46b0-4bcc-9815-615530706fa6",
   "metadata": {},
   "outputs": [
    {
     "name": "stdout",
     "output_type": "stream",
     "text": [
      "Before removing duplicates: (3271, 7)\n",
      "After removing duplicates: (3271, 7)\n"
     ]
    }
   ],
   "source": [
    "# Check shape before dropping\n",
    "print(\"Before removing duplicates:\", df_merged.shape)\n",
    "\n",
    "# Drop exact duplicate rows\n",
    "df_merged = df_merged.drop_duplicates()\n",
    "\n",
    "# Check shape after dropping\n",
    "print(\"After removing duplicates:\", df_merged.shape)\n"
   ]
  },
  {
   "cell_type": "markdown",
   "id": "85f59ce3-69ed-4415-9e82-62728bb084fd",
   "metadata": {},
   "source": [
    "## Outliers handling"
   ]
  },
  {
   "cell_type": "code",
   "execution_count": 627,
   "id": "d8d40ec1-e083-4424-a9e3-d938e78e6aaa",
   "metadata": {},
   "outputs": [
    {
     "data": {
      "image/png": "[encoded data removed]",
      "text/plain": [
       "<Figure size 600x100 with 1 Axes>"
      ]
     },
     "metadata": {},
     "output_type": "display_data"
    },
    {
     "data": {
      "image/png": "[encoded data removed]",
      "text/plain": [
       "<Figure size 600x100 with 1 Axes>"
      ]
     },
     "metadata": {},
     "output_type": "display_data"
    },
    {
     "data": {
      "image/png": "[encoded data removed]",
      "text/plain": [
       "<Figure size 600x100 with 1 Axes>"
      ]
     },
     "metadata": {},
     "output_type": "display_data"
    }
   ],
   "source": [
    "\n",
    "for col in ['MaxBookees', 'Number Booked', 'Price (INR)']:\n",
    "    plt.figure(figsize=(6, 1))\n",
    "    sns.boxplot(data=df_merged, x=col)\n",
    "    plt.title(f'Boxplot of {col}')\n",
    "    plt.show()\n"
   ]
  },
  {
   "cell_type": "code",
   "execution_count": 628,
   "id": "0db30926-f9af-4225-916a-7c4e2fb2beb4",
   "metadata": {},
   "outputs": [],
   "source": [
    "def cap_outliers_iqr(series):\n",
    "    Q1 = series.quantile(0.25)\n",
    "    Q3 = series.quantile(0.75)\n",
    "    IQR = Q3 - Q1\n",
    "    lower = Q1 - 1.5 * IQR\n",
    "    upper = Q3 + 1.5 * IQR\n",
    "\n",
    "    # Capping the outliers\n",
    "    return series.clip(lower=lower, upper=upper)\n"
   ]
  },
  {
   "cell_type": "code",
   "execution_count": 629,
   "id": "d5182462-c61e-42b8-a11e-8e52c31722f9",
   "metadata": {},
   "outputs": [],
   "source": [
    "# Apply IQR capping\n",
    "df_merged['MaxBookees'] = cap_outliers_iqr(df_merged['MaxBookees'])\n",
    "df_merged['Number Booked'] = cap_outliers_iqr(df_merged['Number Booked'])\n",
    "df_merged['Price (INR)'] = cap_outliers_iqr(df_merged['Price (INR)'])\n"
   ]
  },
  {
   "cell_type": "code",
   "execution_count": 630,
   "id": "bba21e73-995c-4fcd-ad1b-26caf00853b3",
   "metadata": {},
   "outputs": [
    {
     "data": {
      "image/png": "[encoded data removed]",
      "text/plain": [
       "<Figure size 600x100 with 1 Axes>"
      ]
     },
     "metadata": {},
     "output_type": "display_data"
    },
    {
     "data": {
      "image/png": "[encoded data removed]",
      "text/plain": [
       "<Figure size 600x100 with 1 Axes>"
      ]
     },
     "metadata": {},
     "output_type": "display_data"
    },
    {
     "data": {
      "image/png": "[encoded data removed]",
      "text/plain": [
       "<Figure size 600x100 with 1 Axes>"
      ]
     },
     "metadata": {},
     "output_type": "display_data"
    }
   ],
   "source": [
    "for col in ['MaxBookees', 'Number Booked', 'Price (INR)']:\n",
    "    plt.figure(figsize=(6, 1))\n",
    "    sns.boxplot(data=df_merged, x=col)\n",
    "    plt.title(f'Boxplot of {col} after capping')\n",
    "    plt.show()\n"
   ]
  },
  {
   "cell_type": "markdown",
   "id": "0ac4d2ae-abf0-4306-a230-855254478fcb",
   "metadata": {},
   "source": [
    "## Transform data"
   ]
  },
  {
   "cell_type": "code",
   "execution_count": 632,
   "id": "95fe393d-0c99-4bf3-8d7c-9e5b0be2971b",
   "metadata": {},
   "outputs": [
    {
     "data": {
      "text/plain": [
       "0       14:45:00\n",
       "1       14:45:00\n",
       "2       14:45:00\n",
       "3       14:45:00\n",
       "4       14:45:00\n",
       "          ...   \n",
       "3266    18:30:00\n",
       "3267    18:30:00\n",
       "3268    18:00:00\n",
       "3269    18:00:00\n",
       "3270    18:00:00\n",
       "Name: BookingStartTime, Length: 3271, dtype: object"
      ]
     },
     "execution_count": 632,
     "metadata": {},
     "output_type": "execute_result"
    }
   ],
   "source": [
    "# Convert 'BookingEndDateTime' to datetime\n",
    "df_merged['BookingEndDateTime'] = pd.to_datetime(df_merged['BookingEndDateTime (Month / Day / Year)'], errors='coerce')\n",
    "\n",
    "# Convert 'BookingStartTime' to time\n",
    "df_merged['BookingStartTime'] = pd.to_datetime(df_merged['BookingStartTime'], format='%H:%M:%S', errors='coerce').dt.time\n",
    "df_merged['BookingStartTime']"
   ]
  },
  {
   "cell_type": "markdown",
   "id": "de5d4132-fab5-4945-b4a6-8a9936efff08",
   "metadata": {},
   "source": [
    "## Scaling features"
   ]
  },
  {
   "cell_type": "code",
   "execution_count": 634,
   "id": "12341a91-4c14-4739-b9ba-58ea00741c0b",
   "metadata": {},
   "outputs": [],
   "source": [
    "from sklearn.preprocessing import StandardScaler\n",
    "\n",
    "# Select numeric columns to scale\n",
    "numeric_cols = ['MaxBookees', 'Number Booked', 'Price (INR)']\n",
    "\n",
    "# Initialize scaler\n",
    "scaler = StandardScaler()\n",
    "\n",
    "# Fit and transform\n",
    "scaled_values = scaler.fit_transform(df_merged[numeric_cols])\n",
    "\n",
    "# Add back to DataFrame\n",
    "df_merged[['MaxBookees_scaled', 'NumberBooked_scaled', 'Price_scaled']] = scaled_values\n"
   ]
  },
  {
   "cell_type": "code",
   "execution_count": 635,
   "id": "6f22b6e9-7830-43bd-aaa4-c4df4b76fa18",
   "metadata": {},
   "outputs": [],
   "source": [
    "# Strip spaces and lowercase activity description\n",
    "df_merged['ActivityDescription'] = df_merged['ActivityDescription'].str.strip().str.lower()\n",
    "\n",
    "# Convert BookingEndDateTime to datetime\n",
    "df_merged['BookingEndDateTime (Month / Day / Year)'] = pd.to_datetime(df_merged['BookingEndDateTime (Month / Day / Year)'], errors='coerce')\n"
   ]
  },
  {
   "cell_type": "code",
   "execution_count": 636,
   "id": "e014e943-dcf5-4581-aa8f-d22028771e7f",
   "metadata": {},
   "outputs": [
    {
     "data": {
      "text/html": [
       "<div>\n",
       "<style scoped>\n",
       "    .dataframe tbody tr th:only-of-type {\n",
       "        vertical-align: middle;\n",
       "    }\n",
       "\n",
       "    .dataframe tbody tr th {\n",
       "        vertical-align: top;\n",
       "    }\n",
       "\n",
       "    .dataframe thead th {\n",
       "        text-align: right;\n",
       "    }\n",
       "</style>\n",
       "<table border=\"1\" class=\"dataframe\">\n",
       "  <thead>\n",
       "    <tr style=\"text-align: right;\">\n",
       "      <th></th>\n",
       "      <th>ActivitySiteID</th>\n",
       "      <th>ActivityDescription</th>\n",
       "      <th>BookingEndDateTime (Month / Day / Year)</th>\n",
       "      <th>BookingStartTime</th>\n",
       "      <th>MaxBookees</th>\n",
       "      <th>Number Booked</th>\n",
       "      <th>Price (INR)</th>\n",
       "      <th>BookingEndDateTime</th>\n",
       "      <th>MaxBookees_scaled</th>\n",
       "      <th>NumberBooked_scaled</th>\n",
       "      <th>Price_scaled</th>\n",
       "    </tr>\n",
       "  </thead>\n",
       "  <tbody>\n",
       "    <tr>\n",
       "      <th>0</th>\n",
       "      <td>HXP</td>\n",
       "      <td>20-20-20  2.45pm-3.45pm</td>\n",
       "      <td>2018-04-08</td>\n",
       "      <td>14:45:00</td>\n",
       "      <td>25.0</td>\n",
       "      <td>12</td>\n",
       "      <td>499.0</td>\n",
       "      <td>2018-04-08</td>\n",
       "      <td>-0.479854</td>\n",
       "      <td>-0.542729</td>\n",
       "      <td>-1.708124</td>\n",
       "    </tr>\n",
       "    <tr>\n",
       "      <th>1</th>\n",
       "      <td>HXP</td>\n",
       "      <td>20-20-20  2.45pm-3.45pm</td>\n",
       "      <td>2018-04-15</td>\n",
       "      <td>14:45:00</td>\n",
       "      <td>25.0</td>\n",
       "      <td>15</td>\n",
       "      <td>499.0</td>\n",
       "      <td>2018-04-15</td>\n",
       "      <td>-0.479854</td>\n",
       "      <td>-0.222573</td>\n",
       "      <td>-1.708124</td>\n",
       "    </tr>\n",
       "    <tr>\n",
       "      <th>2</th>\n",
       "      <td>HXP</td>\n",
       "      <td>20-20-20  2.45pm-3.45pm</td>\n",
       "      <td>2018-04-22</td>\n",
       "      <td>14:45:00</td>\n",
       "      <td>25.0</td>\n",
       "      <td>14</td>\n",
       "      <td>499.0</td>\n",
       "      <td>2018-04-22</td>\n",
       "      <td>-0.479854</td>\n",
       "      <td>-0.329291</td>\n",
       "      <td>-1.708124</td>\n",
       "    </tr>\n",
       "    <tr>\n",
       "      <th>3</th>\n",
       "      <td>HXP</td>\n",
       "      <td>20-20-20  2.45pm-3.45pm</td>\n",
       "      <td>2018-04-29</td>\n",
       "      <td>14:45:00</td>\n",
       "      <td>25.0</td>\n",
       "      <td>9</td>\n",
       "      <td>499.0</td>\n",
       "      <td>2018-04-29</td>\n",
       "      <td>-0.479854</td>\n",
       "      <td>-0.862885</td>\n",
       "      <td>-1.708124</td>\n",
       "    </tr>\n",
       "    <tr>\n",
       "      <th>4</th>\n",
       "      <td>HXP</td>\n",
       "      <td>20-20-20  2.45pm-3.45pm</td>\n",
       "      <td>2018-05-06</td>\n",
       "      <td>14:45:00</td>\n",
       "      <td>25.0</td>\n",
       "      <td>7</td>\n",
       "      <td>499.0</td>\n",
       "      <td>2018-05-06</td>\n",
       "      <td>-0.479854</td>\n",
       "      <td>-1.076322</td>\n",
       "      <td>-1.708124</td>\n",
       "    </tr>\n",
       "  </tbody>\n",
       "</table>\n",
       "</div>"
      ],
      "text/plain": [
       "  ActivitySiteID      ActivityDescription  \\\n",
       "0            HXP  20-20-20  2.45pm-3.45pm   \n",
       "1            HXP  20-20-20  2.45pm-3.45pm   \n",
       "2            HXP  20-20-20  2.45pm-3.45pm   \n",
       "3            HXP  20-20-20  2.45pm-3.45pm   \n",
       "4            HXP  20-20-20  2.45pm-3.45pm   \n",
       "\n",
       "  BookingEndDateTime (Month / Day / Year) BookingStartTime  MaxBookees  \\\n",
       "0                              2018-04-08         14:45:00        25.0   \n",
       "1                              2018-04-15         14:45:00        25.0   \n",
       "2                              2018-04-22         14:45:00        25.0   \n",
       "3                              2018-04-29         14:45:00        25.0   \n",
       "4                              2018-05-06         14:45:00        25.0   \n",
       "\n",
       "   Number Booked  Price (INR) BookingEndDateTime  MaxBookees_scaled  \\\n",
       "0             12        499.0         2018-04-08          -0.479854   \n",
       "1             15        499.0         2018-04-15          -0.479854   \n",
       "2             14        499.0         2018-04-22          -0.479854   \n",
       "3              9        499.0         2018-04-29          -0.479854   \n",
       "4              7        499.0         2018-05-06          -0.479854   \n",
       "\n",
       "   NumberBooked_scaled  Price_scaled  \n",
       "0            -0.542729     -1.708124  \n",
       "1            -0.222573     -1.708124  \n",
       "2            -0.329291     -1.708124  \n",
       "3            -0.862885     -1.708124  \n",
       "4            -1.076322     -1.708124  "
      ]
     },
     "execution_count": 636,
     "metadata": {},
     "output_type": "execute_result"
    }
   ],
   "source": [
    "df_merged.head()"
   ]
  },
  {
   "cell_type": "code",
   "execution_count": 637,
   "id": "e839184b-18b6-452a-8620-d55371d9c173",
   "metadata": {},
   "outputs": [
    {
     "data": {
      "text/html": [
       "<div>\n",
       "<style scoped>\n",
       "    .dataframe tbody tr th:only-of-type {\n",
       "        vertical-align: middle;\n",
       "    }\n",
       "\n",
       "    .dataframe tbody tr th {\n",
       "        vertical-align: top;\n",
       "    }\n",
       "\n",
       "    .dataframe thead th {\n",
       "        text-align: right;\n",
       "    }\n",
       "</style>\n",
       "<table border=\"1\" class=\"dataframe\">\n",
       "  <thead>\n",
       "    <tr style=\"text-align: right;\">\n",
       "      <th></th>\n",
       "      <th>ActivityDescription</th>\n",
       "      <th>ActivityDescription_clean</th>\n",
       "    </tr>\n",
       "  </thead>\n",
       "  <tbody>\n",
       "    <tr>\n",
       "      <th>0</th>\n",
       "      <td>20-20-20  2.45pm-3.45pm</td>\n",
       "      <td>20-20-20 2.45pm-3.45pm</td>\n",
       "    </tr>\n",
       "    <tr>\n",
       "      <th>8</th>\n",
       "      <td>20-20-20 7.00-8.00pm</td>\n",
       "      <td>20-20-20 7.00-8.00pm</td>\n",
       "    </tr>\n",
       "    <tr>\n",
       "      <th>17</th>\n",
       "      <td>20-20-20 9.30-10.30am</td>\n",
       "      <td>20-20-20 9.30-10.30am</td>\n",
       "    </tr>\n",
       "    <tr>\n",
       "      <th>35</th>\n",
       "      <td>20:20:20  10-11 am</td>\n",
       "      <td>20:20:20 10-11 am</td>\n",
       "    </tr>\n",
       "    <tr>\n",
       "      <th>44</th>\n",
       "      <td>20:20:20  10.00-11.00am</td>\n",
       "      <td>20:20:20 10.00-11.00am</td>\n",
       "    </tr>\n",
       "    <tr>\n",
       "      <th>52</th>\n",
       "      <td>20:20:20  11am -12noon</td>\n",
       "      <td>20:20:20 11am -12noon</td>\n",
       "    </tr>\n",
       "    <tr>\n",
       "      <th>59</th>\n",
       "      <td>20:20:20  9.30-10.30am</td>\n",
       "      <td>20:20:20 9.30-10.30am</td>\n",
       "    </tr>\n",
       "    <tr>\n",
       "      <th>67</th>\n",
       "      <td>20:20:20 9.30-10.30am</td>\n",
       "      <td>20:20:20 9.30-10.30am</td>\n",
       "    </tr>\n",
       "    <tr>\n",
       "      <th>75</th>\n",
       "      <td>45min madness 9.15-10am</td>\n",
       "      <td>45min madness 9.15-10am</td>\n",
       "    </tr>\n",
       "    <tr>\n",
       "      <th>84</th>\n",
       "      <td>abs blast 7.45-8.15am</td>\n",
       "      <td>abs blast 7.45-8.15am</td>\n",
       "    </tr>\n",
       "  </tbody>\n",
       "</table>\n",
       "</div>"
      ],
      "text/plain": [
       "        ActivityDescription ActivityDescription_clean\n",
       "0   20-20-20  2.45pm-3.45pm    20-20-20 2.45pm-3.45pm\n",
       "8      20-20-20 7.00-8.00pm      20-20-20 7.00-8.00pm\n",
       "17    20-20-20 9.30-10.30am     20-20-20 9.30-10.30am\n",
       "35       20:20:20  10-11 am         20:20:20 10-11 am\n",
       "44  20:20:20  10.00-11.00am    20:20:20 10.00-11.00am\n",
       "52   20:20:20  11am -12noon     20:20:20 11am -12noon\n",
       "59   20:20:20  9.30-10.30am     20:20:20 9.30-10.30am\n",
       "67    20:20:20 9.30-10.30am     20:20:20 9.30-10.30am\n",
       "75  45min madness 9.15-10am   45min madness 9.15-10am\n",
       "84    abs blast 7.45-8.15am     abs blast 7.45-8.15am"
      ]
     },
     "execution_count": 637,
     "metadata": {},
     "output_type": "execute_result"
    }
   ],
   "source": [
    "import re\n",
    "import pandas as pd\n",
    "\n",
    "# Define standardization function\n",
    "def standardize_description(text):\n",
    "    if pd.isnull(text):\n",
    "        return \"\"\n",
    "    text = text.lower()                           # Convert to lowercase\n",
    "    text = re.sub(r\"[^a-z0-9:\\.\\-\\s]\", \" \", text) # Keep alphanumeric, time symbols\n",
    "    text = re.sub(r\"\\s+\", \" \", text)              # Remove extra spaces\n",
    "    text = text.strip()\n",
    "    return text\n",
    "\n",
    "# Apply to merged DataFrame\n",
    "df_merged['ActivityDescription_clean'] = df_merged['ActivityDescription'].apply(standardize_description)\n",
    "\n",
    "# Preview cleaned versions\n",
    "df_merged[['ActivityDescription', 'ActivityDescription_clean']].drop_duplicates().head(10)\n"
   ]
  },
  {
   "cell_type": "code",
   "execution_count": 638,
   "id": "612fa444-d5d5-4670-866a-384ec58eea80",
   "metadata": {},
   "outputs": [],
   "source": [
    "# Drop one or more activity description columns\n",
    "df_merged.drop(columns=['ActivityDescription'], inplace=True, errors='ignore')\n"
   ]
  },
  {
   "cell_type": "code",
   "execution_count": 639,
   "id": "a3011127-d77f-4a4c-b36c-c3cb8ae782c6",
   "metadata": {},
   "outputs": [
    {
     "name": "stdout",
     "output_type": "stream",
     "text": [
      "📈 Skewness of Numeric Features:\n",
      "Price (INR)            0.606907\n",
      "Price_scaled           0.606907\n",
      "Number Booked          0.350926\n",
      "NumberBooked_scaled    0.350926\n",
      "MaxBookees             0.132649\n",
      "MaxBookees_scaled      0.132649\n",
      "dtype: float64\n"
     ]
    },
    {
     "data": {
      "image/png": "[encoded data removed]",
      "text/plain": [
       "<Figure size 500x300 with 1 Axes>"
      ]
     },
     "metadata": {},
     "output_type": "display_data"
    },
    {
     "data": {
      "image/png": "[encoded data removed]",
      "text/plain": [
       "<Figure size 500x300 with 1 Axes>"
      ]
     },
     "metadata": {},
     "output_type": "display_data"
    },
    {
     "data": {
      "image/png": "[encoded data removed]",
      "text/plain": [
       "<Figure size 500x300 with 1 Axes>"
      ]
     },
     "metadata": {},
     "output_type": "display_data"
    }
   ],
   "source": [
    "numeric_cols = df_merged.select_dtypes(include=['int64', 'float64']).columns\n",
    "\n",
    "# Check skewness\n",
    "skew_values = df_merged[numeric_cols].skew().sort_values(ascending=False)\n",
    "\n",
    "print(\"📈 Skewness of Numeric Features:\")\n",
    "print(skew_values)\n",
    "for col in skew_values.head(3).index:\n",
    "    plt.figure(figsize=(5, 3))\n",
    "    sns.histplot(df_merged[col], kde=True)\n",
    "    plt.title(f'Distribution of {col}')\n",
    "    plt.show()"
   ]
  },
  {
   "cell_type": "markdown",
   "id": "7e770542-7aac-4cda-ae9e-f364ba73a7a9",
   "metadata": {},
   "source": [
    "Apply Log Transform"
   ]
  },
  {
   "cell_type": "code",
   "execution_count": 641,
   "id": "7b7eaec4-bc52-4489-bed3-f55e7be548e2",
   "metadata": {},
   "outputs": [
    {
     "data": {
      "image/png": "[encoded data removed]",
      "text/plain": [
       "<Figure size 640x480 with 1 Axes>"
      ]
     },
     "metadata": {},
     "output_type": "display_data"
    },
    {
     "data": {
      "image/png": "[encoded data removed]",
      "text/plain": [
       "<Figure size 640x480 with 1 Axes>"
      ]
     },
     "metadata": {},
     "output_type": "display_data"
    }
   ],
   "source": [
    "df_merged['Price_log'] = np.log1p(df_merged['Price (INR)'])\n",
    "df_merged['NumberBooked_log'] = np.log1p(df_merged['Number Booked'])\n",
    "sns.histplot(df_merged['Price_log'], kde=True)\n",
    "plt.title(\"Log-Transformed Price Distribution\")\n",
    "plt.show()\n",
    "\n",
    "sns.histplot(df_merged['NumberBooked_log'], kde=True)\n",
    "plt.title(\"Log-Transformed Number Booked\")\n",
    "plt.show()"
   ]
  },
  {
   "cell_type": "code",
   "execution_count": 672,
   "id": "447a34da-331b-4c59-b6ff-ef366d2c057e",
   "metadata": {
    "scrolled": true
   },
   "outputs": [
    {
     "name": "stdout",
     "output_type": "stream",
     "text": [
      "   ActivitySiteID_HXP  ActivitySiteID_NBL  ActivitySiteID_SBP  \\\n",
      "0                   1                   0                   0   \n",
      "1                   1                   0                   0   \n",
      "2                   1                   0                   0   \n",
      "3                   1                   0                   0   \n",
      "4                   1                   0                   0   \n",
      "\n",
      "   ActivitySiteID_TSC  \n",
      "0                   0  \n",
      "1                   0  \n",
      "2                   0  \n",
      "3                   0  \n",
      "4                   0  \n"
     ]
    }
   ],
   "source": [
    "# Perform one-hot encoding with integer dtype\n",
    "df_merged = pd.get_dummies(df_merged, columns=['ActivitySiteID'], drop_first=True, dtype=\"int\")\n",
    "\n",
    "# Check resulting dummy columns\n",
    "print(df_merged.filter(like='ActivitySiteID_').head())\n"
   ]
  },
  {
   "cell_type": "code",
   "execution_count": 674,
   "id": "e1affdc8-473f-41e3-93fa-7445ffe7380d",
   "metadata": {},
   "outputs": [
    {
     "data": {
      "text/html": [
       "<div>\n",
       "<style scoped>\n",
       "    .dataframe tbody tr th:only-of-type {\n",
       "        vertical-align: middle;\n",
       "    }\n",
       "\n",
       "    .dataframe tbody tr th {\n",
       "        vertical-align: top;\n",
       "    }\n",
       "\n",
       "    .dataframe thead th {\n",
       "        text-align: right;\n",
       "    }\n",
       "</style>\n",
       "<table border=\"1\" class=\"dataframe\">\n",
       "  <thead>\n",
       "    <tr style=\"text-align: right;\">\n",
       "      <th></th>\n",
       "      <th>BookingEndDateTime (Month / Day / Year)</th>\n",
       "      <th>BookingStartTime</th>\n",
       "      <th>MaxBookees</th>\n",
       "      <th>Number Booked</th>\n",
       "      <th>Price (INR)</th>\n",
       "      <th>BookingEndDateTime</th>\n",
       "      <th>MaxBookees_scaled</th>\n",
       "      <th>NumberBooked_scaled</th>\n",
       "      <th>Price_scaled</th>\n",
       "      <th>ActivityDescription_clean</th>\n",
       "      <th>Price_log</th>\n",
       "      <th>NumberBooked_log</th>\n",
       "      <th>ActivitySiteID_HXP</th>\n",
       "      <th>ActivitySiteID_NBL</th>\n",
       "      <th>ActivitySiteID_SBP</th>\n",
       "      <th>ActivitySiteID_TSC</th>\n",
       "    </tr>\n",
       "  </thead>\n",
       "  <tbody>\n",
       "    <tr>\n",
       "      <th>0</th>\n",
       "      <td>2018-04-08</td>\n",
       "      <td>14:45:00</td>\n",
       "      <td>25.0</td>\n",
       "      <td>12</td>\n",
       "      <td>499.0</td>\n",
       "      <td>2018-04-08</td>\n",
       "      <td>-0.479854</td>\n",
       "      <td>-0.542729</td>\n",
       "      <td>-1.708124</td>\n",
       "      <td>20-20-20 2.45pm-3.45pm</td>\n",
       "      <td>6.214608</td>\n",
       "      <td>2.564949</td>\n",
       "      <td>1</td>\n",
       "      <td>0</td>\n",
       "      <td>0</td>\n",
       "      <td>0</td>\n",
       "    </tr>\n",
       "    <tr>\n",
       "      <th>1</th>\n",
       "      <td>2018-04-15</td>\n",
       "      <td>14:45:00</td>\n",
       "      <td>25.0</td>\n",
       "      <td>15</td>\n",
       "      <td>499.0</td>\n",
       "      <td>2018-04-15</td>\n",
       "      <td>-0.479854</td>\n",
       "      <td>-0.222573</td>\n",
       "      <td>-1.708124</td>\n",
       "      <td>20-20-20 2.45pm-3.45pm</td>\n",
       "      <td>6.214608</td>\n",
       "      <td>2.772589</td>\n",
       "      <td>1</td>\n",
       "      <td>0</td>\n",
       "      <td>0</td>\n",
       "      <td>0</td>\n",
       "    </tr>\n",
       "    <tr>\n",
       "      <th>2</th>\n",
       "      <td>2018-04-22</td>\n",
       "      <td>14:45:00</td>\n",
       "      <td>25.0</td>\n",
       "      <td>14</td>\n",
       "      <td>499.0</td>\n",
       "      <td>2018-04-22</td>\n",
       "      <td>-0.479854</td>\n",
       "      <td>-0.329291</td>\n",
       "      <td>-1.708124</td>\n",
       "      <td>20-20-20 2.45pm-3.45pm</td>\n",
       "      <td>6.214608</td>\n",
       "      <td>2.708050</td>\n",
       "      <td>1</td>\n",
       "      <td>0</td>\n",
       "      <td>0</td>\n",
       "      <td>0</td>\n",
       "    </tr>\n",
       "    <tr>\n",
       "      <th>3</th>\n",
       "      <td>2018-04-29</td>\n",
       "      <td>14:45:00</td>\n",
       "      <td>25.0</td>\n",
       "      <td>9</td>\n",
       "      <td>499.0</td>\n",
       "      <td>2018-04-29</td>\n",
       "      <td>-0.479854</td>\n",
       "      <td>-0.862885</td>\n",
       "      <td>-1.708124</td>\n",
       "      <td>20-20-20 2.45pm-3.45pm</td>\n",
       "      <td>6.214608</td>\n",
       "      <td>2.302585</td>\n",
       "      <td>1</td>\n",
       "      <td>0</td>\n",
       "      <td>0</td>\n",
       "      <td>0</td>\n",
       "    </tr>\n",
       "    <tr>\n",
       "      <th>4</th>\n",
       "      <td>2018-05-06</td>\n",
       "      <td>14:45:00</td>\n",
       "      <td>25.0</td>\n",
       "      <td>7</td>\n",
       "      <td>499.0</td>\n",
       "      <td>2018-05-06</td>\n",
       "      <td>-0.479854</td>\n",
       "      <td>-1.076322</td>\n",
       "      <td>-1.708124</td>\n",
       "      <td>20-20-20 2.45pm-3.45pm</td>\n",
       "      <td>6.214608</td>\n",
       "      <td>2.079442</td>\n",
       "      <td>1</td>\n",
       "      <td>0</td>\n",
       "      <td>0</td>\n",
       "      <td>0</td>\n",
       "    </tr>\n",
       "  </tbody>\n",
       "</table>\n",
       "</div>"
      ],
      "text/plain": [
       "  BookingEndDateTime (Month / Day / Year) BookingStartTime  MaxBookees  \\\n",
       "0                              2018-04-08         14:45:00        25.0   \n",
       "1                              2018-04-15         14:45:00        25.0   \n",
       "2                              2018-04-22         14:45:00        25.0   \n",
       "3                              2018-04-29         14:45:00        25.0   \n",
       "4                              2018-05-06         14:45:00        25.0   \n",
       "\n",
       "   Number Booked  Price (INR) BookingEndDateTime  MaxBookees_scaled  \\\n",
       "0             12        499.0         2018-04-08          -0.479854   \n",
       "1             15        499.0         2018-04-15          -0.479854   \n",
       "2             14        499.0         2018-04-22          -0.479854   \n",
       "3              9        499.0         2018-04-29          -0.479854   \n",
       "4              7        499.0         2018-05-06          -0.479854   \n",
       "\n",
       "   NumberBooked_scaled  Price_scaled ActivityDescription_clean  Price_log  \\\n",
       "0            -0.542729     -1.708124    20-20-20 2.45pm-3.45pm   6.214608   \n",
       "1            -0.222573     -1.708124    20-20-20 2.45pm-3.45pm   6.214608   \n",
       "2            -0.329291     -1.708124    20-20-20 2.45pm-3.45pm   6.214608   \n",
       "3            -0.862885     -1.708124    20-20-20 2.45pm-3.45pm   6.214608   \n",
       "4            -1.076322     -1.708124    20-20-20 2.45pm-3.45pm   6.214608   \n",
       "\n",
       "   NumberBooked_log  ActivitySiteID_HXP  ActivitySiteID_NBL  \\\n",
       "0          2.564949                   1                   0   \n",
       "1          2.772589                   1                   0   \n",
       "2          2.708050                   1                   0   \n",
       "3          2.302585                   1                   0   \n",
       "4          2.079442                   1                   0   \n",
       "\n",
       "   ActivitySiteID_SBP  ActivitySiteID_TSC  \n",
       "0                   0                   0  \n",
       "1                   0                   0  \n",
       "2                   0                   0  \n",
       "3                   0                   0  \n",
       "4                   0                   0  "
      ]
     },
     "execution_count": 674,
     "metadata": {},
     "output_type": "execute_result"
    }
   ],
   "source": [
    "df_merged.head()"
   ]
  },
  {
   "cell_type": "markdown",
   "id": "24945f1e-2363-4899-90fa-ae42f837805f",
   "metadata": {},
   "source": [
    "## Binning"
   ]
  },
  {
   "cell_type": "code",
   "execution_count": 677,
   "id": "a8b178d7-cb5e-4767-9567-dbae3803d015",
   "metadata": {},
   "outputs": [],
   "source": [
    "bins = [0, 1000, 2000, 5000]\n",
    "labels = ['Low', 'Medium', 'High']\n",
    "df_merged['Price_Tier'] = pd.cut(df_merged['Price (INR)'], bins=bins, labels=labels)\n"
   ]
  },
  {
   "cell_type": "code",
   "execution_count": 679,
   "id": "5ec3e82e-da06-4279-806b-d47ad01318b5",
   "metadata": {},
   "outputs": [],
   "source": [
    "df_merged = pd.get_dummies(df_merged, columns=['Price_Tier'], drop_first=True, dtype='int')\n"
   ]
  },
  {
   "cell_type": "code",
   "execution_count": 681,
   "id": "2e52b794-a076-4f91-b134-fc10a06eff8b",
   "metadata": {},
   "outputs": [
    {
     "name": "stdout",
     "output_type": "stream",
     "text": [
      "Before dropping duplicates: (3271, 18)\n",
      "After dropping duplicates: (3271, 18)\n"
     ]
    }
   ],
   "source": [
    "# Check shape before\n",
    "print(\"Before dropping duplicates:\", df_merged.shape)\n",
    "\n",
    "# Drop exact duplicate rows\n",
    "df_merged.drop_duplicates(inplace=True)\n",
    "\n",
    "# Check shape after\n",
    "print(\"After dropping duplicates:\", df_merged.shape)\n"
   ]
  },
  {
   "cell_type": "code",
   "execution_count": 354,
   "id": "b2af0b92-fb72-4045-9cbd-dceb7c15f8a7",
   "metadata": {},
   "outputs": [
    {
     "name": "stdout",
     "output_type": "stream",
     "text": [
      "Invalid price entries found: 0\n",
      "Overbooked classes: 3269\n"
     ]
    }
   ],
   "source": [
    "# Check if MaxBookees exceeds reasonable limit (e.g., 100 participants per class)\n",
    "assert df_merged['MaxBookees_scaled'].max() <= 100, \"⚠️ MaxBookees exceeds expected maximum (100).\"\n",
    "\n",
    "# Check for negative or zero prices\n",
    "invalid_prices = df_merged[df_merged['Price (INR)'] <= 0]\n",
    "print(f\"Invalid price entries found: {len(invalid_prices)}\")\n",
    "\n",
    "# Check if Number Booked > Max Bookees\n",
    "overbooked = df_merged[df_merged['Number Booked'] > df_merged['MaxBookees_scaled']]\n",
    "print(f\"Overbooked classes: {len(overbooked)}\")\n"
   ]
  },
  {
   "cell_type": "code",
   "execution_count": 683,
   "id": "de372dc9-9d5f-4a90-bf65-32c3803ec9b7",
   "metadata": {},
   "outputs": [
    {
     "data": {
      "text/html": [
       "<div>\n",
       "<style scoped>\n",
       "    .dataframe tbody tr th:only-of-type {\n",
       "        vertical-align: middle;\n",
       "    }\n",
       "\n",
       "    .dataframe tbody tr th {\n",
       "        vertical-align: top;\n",
       "    }\n",
       "\n",
       "    .dataframe thead th {\n",
       "        text-align: right;\n",
       "    }\n",
       "</style>\n",
       "<table border=\"1\" class=\"dataframe\">\n",
       "  <thead>\n",
       "    <tr style=\"text-align: right;\">\n",
       "      <th></th>\n",
       "      <th>BookingEndDateTime (Month / Day / Year)</th>\n",
       "      <th>BookingStartTime</th>\n",
       "      <th>MaxBookees</th>\n",
       "      <th>Number Booked</th>\n",
       "      <th>Price (INR)</th>\n",
       "      <th>BookingEndDateTime</th>\n",
       "      <th>MaxBookees_scaled</th>\n",
       "      <th>NumberBooked_scaled</th>\n",
       "      <th>Price_scaled</th>\n",
       "      <th>ActivityDescription_clean</th>\n",
       "      <th>Price_log</th>\n",
       "      <th>NumberBooked_log</th>\n",
       "      <th>ActivitySiteID_HXP</th>\n",
       "      <th>ActivitySiteID_NBL</th>\n",
       "      <th>ActivitySiteID_SBP</th>\n",
       "      <th>ActivitySiteID_TSC</th>\n",
       "      <th>Price_Tier_Medium</th>\n",
       "      <th>Price_Tier_High</th>\n",
       "    </tr>\n",
       "  </thead>\n",
       "  <tbody>\n",
       "    <tr>\n",
       "      <th>0</th>\n",
       "      <td>2018-04-08</td>\n",
       "      <td>14:45:00</td>\n",
       "      <td>25.0</td>\n",
       "      <td>12</td>\n",
       "      <td>499.0</td>\n",
       "      <td>2018-04-08</td>\n",
       "      <td>-0.479854</td>\n",
       "      <td>-0.542729</td>\n",
       "      <td>-1.708124</td>\n",
       "      <td>20-20-20 2.45pm-3.45pm</td>\n",
       "      <td>6.214608</td>\n",
       "      <td>2.564949</td>\n",
       "      <td>1</td>\n",
       "      <td>0</td>\n",
       "      <td>0</td>\n",
       "      <td>0</td>\n",
       "      <td>0</td>\n",
       "      <td>0</td>\n",
       "    </tr>\n",
       "    <tr>\n",
       "      <th>1</th>\n",
       "      <td>2018-04-15</td>\n",
       "      <td>14:45:00</td>\n",
       "      <td>25.0</td>\n",
       "      <td>15</td>\n",
       "      <td>499.0</td>\n",
       "      <td>2018-04-15</td>\n",
       "      <td>-0.479854</td>\n",
       "      <td>-0.222573</td>\n",
       "      <td>-1.708124</td>\n",
       "      <td>20-20-20 2.45pm-3.45pm</td>\n",
       "      <td>6.214608</td>\n",
       "      <td>2.772589</td>\n",
       "      <td>1</td>\n",
       "      <td>0</td>\n",
       "      <td>0</td>\n",
       "      <td>0</td>\n",
       "      <td>0</td>\n",
       "      <td>0</td>\n",
       "    </tr>\n",
       "    <tr>\n",
       "      <th>2</th>\n",
       "      <td>2018-04-22</td>\n",
       "      <td>14:45:00</td>\n",
       "      <td>25.0</td>\n",
       "      <td>14</td>\n",
       "      <td>499.0</td>\n",
       "      <td>2018-04-22</td>\n",
       "      <td>-0.479854</td>\n",
       "      <td>-0.329291</td>\n",
       "      <td>-1.708124</td>\n",
       "      <td>20-20-20 2.45pm-3.45pm</td>\n",
       "      <td>6.214608</td>\n",
       "      <td>2.708050</td>\n",
       "      <td>1</td>\n",
       "      <td>0</td>\n",
       "      <td>0</td>\n",
       "      <td>0</td>\n",
       "      <td>0</td>\n",
       "      <td>0</td>\n",
       "    </tr>\n",
       "    <tr>\n",
       "      <th>3</th>\n",
       "      <td>2018-04-29</td>\n",
       "      <td>14:45:00</td>\n",
       "      <td>25.0</td>\n",
       "      <td>9</td>\n",
       "      <td>499.0</td>\n",
       "      <td>2018-04-29</td>\n",
       "      <td>-0.479854</td>\n",
       "      <td>-0.862885</td>\n",
       "      <td>-1.708124</td>\n",
       "      <td>20-20-20 2.45pm-3.45pm</td>\n",
       "      <td>6.214608</td>\n",
       "      <td>2.302585</td>\n",
       "      <td>1</td>\n",
       "      <td>0</td>\n",
       "      <td>0</td>\n",
       "      <td>0</td>\n",
       "      <td>0</td>\n",
       "      <td>0</td>\n",
       "    </tr>\n",
       "    <tr>\n",
       "      <th>4</th>\n",
       "      <td>2018-05-06</td>\n",
       "      <td>14:45:00</td>\n",
       "      <td>25.0</td>\n",
       "      <td>7</td>\n",
       "      <td>499.0</td>\n",
       "      <td>2018-05-06</td>\n",
       "      <td>-0.479854</td>\n",
       "      <td>-1.076322</td>\n",
       "      <td>-1.708124</td>\n",
       "      <td>20-20-20 2.45pm-3.45pm</td>\n",
       "      <td>6.214608</td>\n",
       "      <td>2.079442</td>\n",
       "      <td>1</td>\n",
       "      <td>0</td>\n",
       "      <td>0</td>\n",
       "      <td>0</td>\n",
       "      <td>0</td>\n",
       "      <td>0</td>\n",
       "    </tr>\n",
       "    <tr>\n",
       "      <th>...</th>\n",
       "      <td>...</td>\n",
       "      <td>...</td>\n",
       "      <td>...</td>\n",
       "      <td>...</td>\n",
       "      <td>...</td>\n",
       "      <td>...</td>\n",
       "      <td>...</td>\n",
       "      <td>...</td>\n",
       "      <td>...</td>\n",
       "      <td>...</td>\n",
       "      <td>...</td>\n",
       "      <td>...</td>\n",
       "      <td>...</td>\n",
       "      <td>...</td>\n",
       "      <td>...</td>\n",
       "      <td>...</td>\n",
       "      <td>...</td>\n",
       "      <td>...</td>\n",
       "    </tr>\n",
       "    <tr>\n",
       "      <th>3266</th>\n",
       "      <td>2018-06-18</td>\n",
       "      <td>18:30:00</td>\n",
       "      <td>18.0</td>\n",
       "      <td>9</td>\n",
       "      <td>1299.0</td>\n",
       "      <td>2018-06-18</td>\n",
       "      <td>-1.061188</td>\n",
       "      <td>-0.862885</td>\n",
       "      <td>-0.698680</td>\n",
       "      <td>zumba 6.30-7.30pm</td>\n",
       "      <td>7.170120</td>\n",
       "      <td>2.302585</td>\n",
       "      <td>0</td>\n",
       "      <td>0</td>\n",
       "      <td>0</td>\n",
       "      <td>1</td>\n",
       "      <td>1</td>\n",
       "      <td>0</td>\n",
       "    </tr>\n",
       "    <tr>\n",
       "      <th>3267</th>\n",
       "      <td>2018-06-25</td>\n",
       "      <td>18:30:00</td>\n",
       "      <td>18.0</td>\n",
       "      <td>9</td>\n",
       "      <td>1299.0</td>\n",
       "      <td>2018-06-25</td>\n",
       "      <td>-1.061188</td>\n",
       "      <td>-0.862885</td>\n",
       "      <td>-0.698680</td>\n",
       "      <td>zumba 6.30-7.30pm</td>\n",
       "      <td>7.170120</td>\n",
       "      <td>2.302585</td>\n",
       "      <td>0</td>\n",
       "      <td>0</td>\n",
       "      <td>0</td>\n",
       "      <td>1</td>\n",
       "      <td>1</td>\n",
       "      <td>0</td>\n",
       "    </tr>\n",
       "    <tr>\n",
       "      <th>3268</th>\n",
       "      <td>2018-06-07</td>\n",
       "      <td>18:00:00</td>\n",
       "      <td>50.0</td>\n",
       "      <td>16</td>\n",
       "      <td>1299.0</td>\n",
       "      <td>2018-06-07</td>\n",
       "      <td>1.596339</td>\n",
       "      <td>-0.115854</td>\n",
       "      <td>-0.698680</td>\n",
       "      <td>zumba - 6-7pm</td>\n",
       "      <td>7.170120</td>\n",
       "      <td>2.833213</td>\n",
       "      <td>0</td>\n",
       "      <td>0</td>\n",
       "      <td>0</td>\n",
       "      <td>1</td>\n",
       "      <td>1</td>\n",
       "      <td>0</td>\n",
       "    </tr>\n",
       "    <tr>\n",
       "      <th>3269</th>\n",
       "      <td>2018-06-14</td>\n",
       "      <td>18:00:00</td>\n",
       "      <td>50.0</td>\n",
       "      <td>13</td>\n",
       "      <td>1299.0</td>\n",
       "      <td>2018-06-14</td>\n",
       "      <td>1.596339</td>\n",
       "      <td>-0.436010</td>\n",
       "      <td>-0.698680</td>\n",
       "      <td>zumba - 6-7pm</td>\n",
       "      <td>7.170120</td>\n",
       "      <td>2.639057</td>\n",
       "      <td>0</td>\n",
       "      <td>0</td>\n",
       "      <td>0</td>\n",
       "      <td>1</td>\n",
       "      <td>1</td>\n",
       "      <td>0</td>\n",
       "    </tr>\n",
       "    <tr>\n",
       "      <th>3270</th>\n",
       "      <td>2018-06-21</td>\n",
       "      <td>18:00:00</td>\n",
       "      <td>50.0</td>\n",
       "      <td>12</td>\n",
       "      <td>1299.0</td>\n",
       "      <td>2018-06-21</td>\n",
       "      <td>1.596339</td>\n",
       "      <td>-0.542729</td>\n",
       "      <td>-0.698680</td>\n",
       "      <td>zumba - 6-7pm</td>\n",
       "      <td>7.170120</td>\n",
       "      <td>2.564949</td>\n",
       "      <td>0</td>\n",
       "      <td>0</td>\n",
       "      <td>0</td>\n",
       "      <td>1</td>\n",
       "      <td>1</td>\n",
       "      <td>0</td>\n",
       "    </tr>\n",
       "  </tbody>\n",
       "</table>\n",
       "<p>3271 rows × 18 columns</p>\n",
       "</div>"
      ],
      "text/plain": [
       "     BookingEndDateTime (Month / Day / Year) BookingStartTime  MaxBookees  \\\n",
       "0                                 2018-04-08         14:45:00        25.0   \n",
       "1                                 2018-04-15         14:45:00        25.0   \n",
       "2                                 2018-04-22         14:45:00        25.0   \n",
       "3                                 2018-04-29         14:45:00        25.0   \n",
       "4                                 2018-05-06         14:45:00        25.0   \n",
       "...                                      ...              ...         ...   \n",
       "3266                              2018-06-18         18:30:00        18.0   \n",
       "3267                              2018-06-25         18:30:00        18.0   \n",
       "3268                              2018-06-07         18:00:00        50.0   \n",
       "3269                              2018-06-14         18:00:00        50.0   \n",
       "3270                              2018-06-21         18:00:00        50.0   \n",
       "\n",
       "      Number Booked  Price (INR) BookingEndDateTime  MaxBookees_scaled  \\\n",
       "0                12        499.0         2018-04-08          -0.479854   \n",
       "1                15        499.0         2018-04-15          -0.479854   \n",
       "2                14        499.0         2018-04-22          -0.479854   \n",
       "3                 9        499.0         2018-04-29          -0.479854   \n",
       "4                 7        499.0         2018-05-06          -0.479854   \n",
       "...             ...          ...                ...                ...   \n",
       "3266              9       1299.0         2018-06-18          -1.061188   \n",
       "3267              9       1299.0         2018-06-25          -1.061188   \n",
       "3268             16       1299.0         2018-06-07           1.596339   \n",
       "3269             13       1299.0         2018-06-14           1.596339   \n",
       "3270             12       1299.0         2018-06-21           1.596339   \n",
       "\n",
       "      NumberBooked_scaled  Price_scaled ActivityDescription_clean  Price_log  \\\n",
       "0               -0.542729     -1.708124    20-20-20 2.45pm-3.45pm   6.214608   \n",
       "1               -0.222573     -1.708124    20-20-20 2.45pm-3.45pm   6.214608   \n",
       "2               -0.329291     -1.708124    20-20-20 2.45pm-3.45pm   6.214608   \n",
       "3               -0.862885     -1.708124    20-20-20 2.45pm-3.45pm   6.214608   \n",
       "4               -1.076322     -1.708124    20-20-20 2.45pm-3.45pm   6.214608   \n",
       "...                   ...           ...                       ...        ...   \n",
       "3266            -0.862885     -0.698680         zumba 6.30-7.30pm   7.170120   \n",
       "3267            -0.862885     -0.698680         zumba 6.30-7.30pm   7.170120   \n",
       "3268            -0.115854     -0.698680             zumba - 6-7pm   7.170120   \n",
       "3269            -0.436010     -0.698680             zumba - 6-7pm   7.170120   \n",
       "3270            -0.542729     -0.698680             zumba - 6-7pm   7.170120   \n",
       "\n",
       "      NumberBooked_log  ActivitySiteID_HXP  ActivitySiteID_NBL  \\\n",
       "0             2.564949                   1                   0   \n",
       "1             2.772589                   1                   0   \n",
       "2             2.708050                   1                   0   \n",
       "3             2.302585                   1                   0   \n",
       "4             2.079442                   1                   0   \n",
       "...                ...                 ...                 ...   \n",
       "3266          2.302585                   0                   0   \n",
       "3267          2.302585                   0                   0   \n",
       "3268          2.833213                   0                   0   \n",
       "3269          2.639057                   0                   0   \n",
       "3270          2.564949                   0                   0   \n",
       "\n",
       "      ActivitySiteID_SBP  ActivitySiteID_TSC  Price_Tier_Medium  \\\n",
       "0                      0                   0                  0   \n",
       "1                      0                   0                  0   \n",
       "2                      0                   0                  0   \n",
       "3                      0                   0                  0   \n",
       "4                      0                   0                  0   \n",
       "...                  ...                 ...                ...   \n",
       "3266                   0                   1                  1   \n",
       "3267                   0                   1                  1   \n",
       "3268                   0                   1                  1   \n",
       "3269                   0                   1                  1   \n",
       "3270                   0                   1                  1   \n",
       "\n",
       "      Price_Tier_High  \n",
       "0                   0  \n",
       "1                   0  \n",
       "2                   0  \n",
       "3                   0  \n",
       "4                   0  \n",
       "...               ...  \n",
       "3266                0  \n",
       "3267                0  \n",
       "3268                0  \n",
       "3269                0  \n",
       "3270                0  \n",
       "\n",
       "[3271 rows x 18 columns]"
      ]
     },
     "execution_count": 683,
     "metadata": {},
     "output_type": "execute_result"
    }
   ],
   "source": [
    "df_merged"
   ]
  },
  {
   "cell_type": "code",
   "execution_count": 687,
   "id": "bddbd65c-ed6f-4435-ab00-360026f61dfb",
   "metadata": {},
   "outputs": [],
   "source": [
    "df_merged.to_excel(\"output.xlsx\")"
   ]
  },
  {
   "cell_type": "code",
   "execution_count": null,
   "id": "ca89f36a-e25e-4bbe-af1c-dd6d361be699",
   "metadata": {},
   "outputs": [],
   "source": []
  }
 ],
 "metadata": {
  "kernelspec": {
   "display_name": "Python [conda env:base] *",
   "language": "python",
   "name": "conda-base-py"
  },
  "language_info": {
   "codemirror_mode": {
    "name": "ipython",
    "version": 3
   },
   "file_extension": ".py",
   "mimetype": "text/x-python",
   "name": "python",
   "nbconvert_exporter": "python",
   "pygments_lexer": "ipython3",
   "version": "3.12.7"
  }
 },
 "nbformat": 4,
 "nbformat_minor": 5
}

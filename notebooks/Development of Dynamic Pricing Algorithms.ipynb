{
 "cells": [
  {
   "cell_type": "markdown",
   "id": "3c4a53c9-e370-498d-81fa-b7bc45bfbd0e",
   "metadata": {},
   "source": [
    "# Dynamic Pricing Algorithm Based on EDA Insights by Anusha N"
   ]
  },
  {
   "cell_type": "markdown",
   "id": "4b061511-944d-4c23-b947-06df7daf71be",
   "metadata": {},
   "source": [
    "Inputs Taken:\n",
    "For each event, the model considers:\n",
    "\n",
    "Current price\n",
    "\n",
    "Number of days left until the event\n",
    "\n",
    "Current number of bookings\n",
    "\n",
    "Maximum seats (capacity)\n",
    "\n",
    "Class popularity (if any)\n",
    "\n",
    "Location factor (if any)\n",
    "\n",
    "Calculate Fill Rate:\n",
    "Fill Rate = current bookings ÷ max capacity\n",
    "This indicates how full the event is.\n",
    "\n",
    "Calculate Time Until Event:\n",
    "Helps determine urgency—early bird vs. last-minute.\n",
    "\n",
    "Apply Pricing Rules:\n",
    "Based on business insights, rules adjust the price up or down:\n",
    "\n",
    "Early bookings: slight discounts to incentivize\n",
    "\n",
    "Near-capacity or popular events: price increases\n",
    "\n",
    "Low demand close to event: discounts to fill seats\n",
    "\n",
    "High fill rate + short time = premium pricing\n",
    "\n",
    "Adjust Price:\n",
    "The model adds/subtracts a % of the current price based on combined rule effects.\n",
    "\n",
    "Apply Bounds:\n",
    "Final price is clipped between 70% and 150% of the base price to avoid extremes.\n",
    "\n",
    "Output:\n",
    "A dynamically adjusted price for each event, tailored to its real-time booking and timing context."
   ]
  },
  {
   "cell_type": "code",
   "execution_count": 12,
   "id": "f94e5e51-1f9f-4c3e-8e4b-568a8932edd9",
   "metadata": {},
   "outputs": [],
   "source": [
    "import pandas as pd\n",
    "import numpy as np\n",
    "from datetime import datetime"
   ]
  },
  {
   "cell_type": "code",
   "execution_count": 14,
   "id": "18c52bad-6166-47d7-af16-56279743b7c1",
   "metadata": {},
   "outputs": [],
   "source": [
    "# Load and Initial Data Preparation ---\n",
    "df=pd.read_excel(\"edaoutput.xlsx\",index_col=0)"
   ]
  },
  {
   "cell_type": "code",
   "execution_count": 15,
   "id": "b2529e3d-ae7f-4af5-b679-91e00c977f24",
   "metadata": {},
   "outputs": [],
   "source": [
    "# --- Utility Functions ---\n",
    "def get_fill_rate(current_bookings, max_bookees):\n",
    "    return current_bookings / max_bookees if max_bookees > 0 else 0\n",
    "\n",
    "def get_days_to_event(activity_date, today):\n",
    "    return (activity_date - today).days\n",
    "\n",
    "# --- Simplified Dynamic Pricing Algorithm ---\n",
    "def dynamic_price_adjustment(row, today=pd.Timestamp(\"2018-06-01\")):\n",
    "    base_price = row['Price (INR)']\n",
    "    max_bookees = row['MaxBookees']\n",
    "    current_bookings = row['Number Booked']\n",
    "    booking_date = row['BookingEndDateTime (Month / Day / Year)']\n",
    "    price_tier = row['Price_Tier']\n",
    "    weekday = row['Booking_Weekday']\n",
    "\n",
    "    fill_rate = get_fill_rate(current_bookings, max_bookees)\n",
    "    days_left = get_days_to_event(booking_date, today)\n",
    "\n",
    "    adjustment = 0.0\n",
    "\n",
    "    # Time-Based Rules\n",
    "    if days_left > 30:\n",
    "        adjustment -= 0.05  # early bird\n",
    "    elif days_left < 3 and fill_rate < 0.5:\n",
    "        adjustment -= 0.10  # last minute, low demand\n",
    "    elif days_left < 7 and fill_rate > 0.8:\n",
    "        adjustment += 0.15  # urgent demand\n",
    "\n",
    "    # Fill Rate Rules\n",
    "    if fill_rate >= 0.95:\n",
    "        adjustment += 0.20  # premium\n",
    "    elif fill_rate <= 0.10 and days_left > 7:\n",
    "        adjustment -= 0.07  # stimulate demand\n",
    "\n",
    "    # Tier or Day-based Pricing\n",
    "    if price_tier == \"Low\" and weekday in [\"Saturday\", \"Sunday\"]:\n",
    "        adjustment += 0.05  # high weekend demand for low-price events\n",
    "    elif price_tier == \"High\" and fill_rate < 0.3:\n",
    "        adjustment -= 0.08  # high price but low interest\n",
    "\n",
    "    # Final new price, bounded\n",
    "    new_price = base_price * (1 + adjustment)\n",
    "    new_price = max(base_price * 0.7, min(new_price, base_price * 1.5))\n",
    "    return round(new_price, 2)"
   ]
  },
  {
   "cell_type": "code",
   "execution_count": 18,
   "id": "b975320d-70d1-46c5-8ef3-b05de07ac7ee",
   "metadata": {},
   "outputs": [
    {
     "name": "stdout",
     "output_type": "stream",
     "text": [
      "   Price (INR)  Dynamic_Price  Fill_Rate Price_Tier Booking_Weekday\n",
      "0          499         474.05       0.48        Low          Sunday\n",
      "1          499         523.95       0.60        Low          Sunday\n",
      "2          499         523.95       0.56        Low          Sunday\n",
      "3          499         474.05       0.36        Low          Sunday\n",
      "4          499         474.05       0.28        Low          Sunday\n"
     ]
    }
   ],
   "source": [
    "# --- Apply to Dataset ---\n",
    "df['Dynamic_Price'] = df.apply(dynamic_price_adjustment, axis=1)\n",
    "\n",
    "# Optional: View top results\n",
    "print(df[['Price (INR)', 'Dynamic_Price', 'Fill_Rate', 'Price_Tier', 'Booking_Weekday']].head())"
   ]
  },
  {
   "cell_type": "code",
   "execution_count": null,
   "id": "c9c05923-3e83-4aa9-9a11-7a719c81e90d",
   "metadata": {},
   "outputs": [],
   "source": []
  }
 ],
 "metadata": {
  "kernelspec": {
   "display_name": "Python [conda env:base] *",
   "language": "python",
   "name": "conda-base-py"
  },
  "language_info": {
   "codemirror_mode": {
    "name": "ipython",
    "version": 3
   },
   "file_extension": ".py",
   "mimetype": "text/x-python",
   "name": "python",
   "nbconvert_exporter": "python",
   "pygments_lexer": "ipython3",
   "version": "3.12.7"
  }
 },
 "nbformat": 4,
 "nbformat_minor": 5
}
